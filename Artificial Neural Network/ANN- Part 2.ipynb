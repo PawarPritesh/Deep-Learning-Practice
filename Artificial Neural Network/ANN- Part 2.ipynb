{
 "cells": [
  {
   "cell_type": "code",
   "execution_count": 1,
   "metadata": {},
   "outputs": [],
   "source": [
    "import numpy as np\n",
    "import pandas as pd\n",
    "%matplotlib inline\n",
    "import matplotlib as mpl\n",
    "import matplotlib.pyplot as plt"
   ]
  },
  {
   "cell_type": "code",
   "execution_count": 2,
   "metadata": {},
   "outputs": [],
   "source": [
    "import tensorflow as tf\n",
    "from tensorflow import keras"
   ]
  },
  {
   "cell_type": "code",
   "execution_count": 6,
   "metadata": {},
   "outputs": [],
   "source": [
    "from sklearn.datasets import fetch_california_housing\n",
    "housing = fetch_california_housing()"
   ]
  },
  {
   "cell_type": "markdown",
   "metadata": {},
   "source": [
    "### Data Set Characteristics:\n",
    "\n",
    "##### Number of Instances:\n",
    " \t\n",
    "20640\n",
    "\n",
    "##### Number of Attributes:\n",
    " \t\n",
    "8 numeric, predictive attributes and the target\n",
    "\n",
    "##### Attribute Information:\n",
    " \t\n",
    "* MedInc median income in block\n",
    "* HouseAge median house age in block\n",
    "* AveRooms average number of rooms\n",
    "* AveBedrms average number of bedrooms\n",
    "* Population block population\n",
    "* AveOccup average house occupancy\n",
    "* Latitude house block latitude\n",
    "* Longitude house block longitude\n",
    "\n",
    "#### Target\n",
    "\n",
    "The target variable is the median house value in units of 100,000 for California districts.\n",
    "\n",
    "#### Documentation \n",
    "https://scikit-learn.org/stable/modules/generated/sklearn.datasets.fetch_california_housing.html#examples-using-sklearn-datasets-fetch-california-housing"
   ]
  },
  {
   "cell_type": "code",
   "execution_count": 7,
   "metadata": {},
   "outputs": [
    {
     "name": "stdout",
     "output_type": "stream",
     "text": [
      "['MedInc', 'HouseAge', 'AveRooms', 'AveBedrms', 'Population', 'AveOccup', 'Latitude', 'Longitude']\n"
     ]
    }
   ],
   "source": [
    "print(housing.feature_names)"
   ]
  },
  {
   "cell_type": "code",
   "execution_count": 8,
   "metadata": {},
   "outputs": [],
   "source": [
    "from sklearn.model_selection import train_test_split\n",
    "X_train_full, X_test, y_train_full, y_test = train_test_split(housing.data, housing.target, random_state=42)\n",
    "X_train, X_valid, y_train, y_valid = train_test_split(X_train_full, y_train_full, random_state=42)"
   ]
  },
  {
   "cell_type": "code",
   "execution_count": 9,
   "metadata": {},
   "outputs": [],
   "source": [
    "from sklearn.preprocessing import StandardScaler\n",
    "scaler = StandardScaler()\n",
    "X_train = scaler.fit_transform(X_train)\n",
    "X_valid = scaler.transform(X_valid)\n",
    "X_test = scaler.transform(X_test)"
   ]
  },
  {
   "cell_type": "code",
   "execution_count": 10,
   "metadata": {},
   "outputs": [],
   "source": [
    "np.random.seed(42)\n",
    "tf.random.set_seed(42)"
   ]
  },
  {
   "cell_type": "code",
   "execution_count": 11,
   "metadata": {},
   "outputs": [
    {
     "data": {
      "text/plain": [
       "(11610, 8)"
      ]
     },
     "execution_count": 11,
     "metadata": {},
     "output_type": "execute_result"
    }
   ],
   "source": [
    "X_train.shape"
   ]
  },
  {
   "cell_type": "markdown",
   "metadata": {},
   "source": [
    "![](Seq_api.png \"Title\")"
   ]
  },
  {
   "cell_type": "code",
   "execution_count": 12,
   "metadata": {},
   "outputs": [],
   "source": [
    "model = keras.models.Sequential([\n",
    "    keras.layers.Dense(30, activation=\"relu\", input_shape=[8]),\n",
    "    keras.layers.Dense(30, activation=\"relu\"),\n",
    "    keras.layers.Dense(1)\n",
    "])\n",
    "# keras.layers.Dense(30, activation=\"relu\", input_shape=X_train.shape[1:])"
   ]
  },
  {
   "cell_type": "code",
   "execution_count": 13,
   "metadata": {},
   "outputs": [
    {
     "name": "stdout",
     "output_type": "stream",
     "text": [
      "Model: \"sequential\"\n",
      "_________________________________________________________________\n",
      " Layer (type)                Output Shape              Param #   \n",
      "=================================================================\n",
      " dense (Dense)               (None, 30)                270       \n",
      "                                                                 \n",
      " dense_1 (Dense)             (None, 30)                930       \n",
      "                                                                 \n",
      " dense_2 (Dense)             (None, 1)                 31        \n",
      "                                                                 \n",
      "=================================================================\n",
      "Total params: 1,231\n",
      "Trainable params: 1,231\n",
      "Non-trainable params: 0\n",
      "_________________________________________________________________\n"
     ]
    }
   ],
   "source": [
    "model.summary()"
   ]
  },
  {
   "cell_type": "code",
   "execution_count": 14,
   "metadata": {},
   "outputs": [
    {
     "name": "stderr",
     "output_type": "stream",
     "text": [
      "C:\\Users\\hp\\anaconda3\\lib\\site-packages\\keras\\optimizers\\optimizer_v2\\gradient_descent.py:108: UserWarning: The `lr` argument is deprecated, use `learning_rate` instead.\n",
      "  super(SGD, self).__init__(name, **kwargs)\n"
     ]
    }
   ],
   "source": [
    "model.compile(loss=\"mean_squared_error\", \n",
    "              optimizer=keras.optimizers.SGD(lr=1e-3), \n",
    "              metrics=['mae'])"
   ]
  },
  {
   "cell_type": "code",
   "execution_count": 19,
   "metadata": {},
   "outputs": [
    {
     "name": "stdout",
     "output_type": "stream",
     "text": [
      "Epoch 1/20\n",
      "363/363 [==============================] - 0s 985us/step - loss: 0.3949 - mae: 0.4489 - val_loss: 0.3695 - val_mae: 0.4322\n",
      "Epoch 2/20\n",
      "363/363 [==============================] - 0s 869us/step - loss: 0.3922 - mae: 0.4469 - val_loss: 0.3698 - val_mae: 0.4350\n",
      "Epoch 3/20\n",
      "363/363 [==============================] - 0s 887us/step - loss: 0.3898 - mae: 0.4461 - val_loss: 0.3647 - val_mae: 0.4285\n",
      "Epoch 4/20\n",
      "363/363 [==============================] - 0s 876us/step - loss: 0.3873 - mae: 0.4439 - val_loss: 0.3632 - val_mae: 0.4309\n",
      "Epoch 5/20\n",
      "363/363 [==============================] - 0s 871us/step - loss: 0.3851 - mae: 0.4426 - val_loss: 0.3607 - val_mae: 0.4276\n",
      "Epoch 6/20\n",
      "363/363 [==============================] - 0s 893us/step - loss: 0.3829 - mae: 0.4415 - val_loss: 0.3586 - val_mae: 0.4247\n",
      "Epoch 7/20\n",
      "363/363 [==============================] - 0s 871us/step - loss: 0.3808 - mae: 0.4398 - val_loss: 0.3563 - val_mae: 0.4240\n",
      "Epoch 8/20\n",
      "363/363 [==============================] - 0s 879us/step - loss: 0.3788 - mae: 0.4385 - val_loss: 0.3559 - val_mae: 0.4228\n",
      "Epoch 9/20\n",
      "363/363 [==============================] - 0s 890us/step - loss: 0.3768 - mae: 0.4375 - val_loss: 0.3550 - val_mae: 0.4208\n",
      "Epoch 10/20\n",
      "363/363 [==============================] - 0s 873us/step - loss: 0.3749 - mae: 0.4359 - val_loss: 0.3526 - val_mae: 0.4193\n",
      "Epoch 11/20\n",
      "363/363 [==============================] - 0s 882us/step - loss: 0.3732 - mae: 0.4347 - val_loss: 0.3495 - val_mae: 0.4198\n",
      "Epoch 12/20\n",
      "363/363 [==============================] - 0s 865us/step - loss: 0.3715 - mae: 0.4336 - val_loss: 0.3549 - val_mae: 0.4194\n",
      "Epoch 13/20\n",
      "363/363 [==============================] - 0s 878us/step - loss: 0.3700 - mae: 0.4327 - val_loss: 0.3514 - val_mae: 0.4206\n",
      "Epoch 14/20\n",
      "363/363 [==============================] - 0s 918us/step - loss: 0.3684 - mae: 0.4315 - val_loss: 0.3468 - val_mae: 0.4187\n",
      "Epoch 15/20\n",
      "363/363 [==============================] - 0s 894us/step - loss: 0.3671 - mae: 0.4307 - val_loss: 0.3674 - val_mae: 0.4211\n",
      "Epoch 16/20\n",
      "363/363 [==============================] - 0s 884us/step - loss: 0.3659 - mae: 0.4305 - val_loss: 0.3437 - val_mae: 0.4162\n",
      "Epoch 17/20\n",
      "363/363 [==============================] - 0s 871us/step - loss: 0.3648 - mae: 0.4294 - val_loss: 0.3584 - val_mae: 0.4170\n",
      "Epoch 18/20\n",
      "363/363 [==============================] - 0s 934us/step - loss: 0.3635 - mae: 0.4284 - val_loss: 0.3507 - val_mae: 0.4146\n",
      "Epoch 19/20\n",
      "363/363 [==============================] - 1s 1ms/step - loss: 0.3622 - mae: 0.4272 - val_loss: 0.3451 - val_mae: 0.4143\n",
      "Epoch 20/20\n",
      "363/363 [==============================] - 1s 2ms/step - loss: 0.3613 - mae: 0.4269 - val_loss: 0.3852 - val_mae: 0.4192\n"
     ]
    }
   ],
   "source": [
    "model_history = model.fit(X_train, y_train, epochs=20, validation_data=(X_valid, y_valid))"
   ]
  },
  {
   "cell_type": "code",
   "execution_count": 20,
   "metadata": {},
   "outputs": [
    {
     "name": "stdout",
     "output_type": "stream",
     "text": [
      "162/162 [==============================] - 0s 613us/step - loss: 0.3596 - mae: 0.4269\n"
     ]
    }
   ],
   "source": [
    "mae_test = model.evaluate(X_test, y_test)\n"
   ]
  },
  {
   "cell_type": "code",
   "execution_count": 21,
   "metadata": {},
   "outputs": [
    {
     "data": {
      "text/plain": [
       "{'loss': [0.3948921859264374,\n",
       "  0.3922426402568817,\n",
       "  0.38980168104171753,\n",
       "  0.3872992694377899,\n",
       "  0.38511765003204346,\n",
       "  0.38287150859832764,\n",
       "  0.3807542622089386,\n",
       "  0.3787875175476074,\n",
       "  0.37684163451194763,\n",
       "  0.3748517632484436,\n",
       "  0.37324920296669006,\n",
       "  0.3715410530567169,\n",
       "  0.3699612319469452,\n",
       "  0.368447870016098,\n",
       "  0.3671063780784607,\n",
       "  0.36586254835128784,\n",
       "  0.36476606130599976,\n",
       "  0.36347639560699463,\n",
       "  0.36216965317726135,\n",
       "  0.36128607392311096],\n",
       " 'mae': [0.448872447013855,\n",
       "  0.44692230224609375,\n",
       "  0.4460664689540863,\n",
       "  0.4439034163951874,\n",
       "  0.4425695538520813,\n",
       "  0.44146016240119934,\n",
       "  0.4398253858089447,\n",
       "  0.4384708106517792,\n",
       "  0.4375317096710205,\n",
       "  0.43594637513160706,\n",
       "  0.4347257614135742,\n",
       "  0.4335672855377197,\n",
       "  0.432650089263916,\n",
       "  0.4315134584903717,\n",
       "  0.4306658208370209,\n",
       "  0.4304641783237457,\n",
       "  0.4293918311595917,\n",
       "  0.42838096618652344,\n",
       "  0.42722728848457336,\n",
       "  0.42688849568367004],\n",
       " 'val_loss': [0.3695237338542938,\n",
       "  0.36980190873146057,\n",
       "  0.3646637499332428,\n",
       "  0.3632129728794098,\n",
       "  0.3606773912906647,\n",
       "  0.3586181104183197,\n",
       "  0.35634568333625793,\n",
       "  0.355917751789093,\n",
       "  0.3549582362174988,\n",
       "  0.3526068925857544,\n",
       "  0.349500834941864,\n",
       "  0.35492226481437683,\n",
       "  0.35144567489624023,\n",
       "  0.34683677554130554,\n",
       "  0.36740919947624207,\n",
       "  0.34370750188827515,\n",
       "  0.3583531081676483,\n",
       "  0.3506976366043091,\n",
       "  0.3450990617275238,\n",
       "  0.3851732909679413],\n",
       " 'val_mae': [0.43215852975845337,\n",
       "  0.43501418828964233,\n",
       "  0.428478479385376,\n",
       "  0.430883526802063,\n",
       "  0.4276126027107239,\n",
       "  0.42469489574432373,\n",
       "  0.4239875376224518,\n",
       "  0.42283928394317627,\n",
       "  0.4207998812198639,\n",
       "  0.41933920979499817,\n",
       "  0.4198022782802582,\n",
       "  0.41943082213401794,\n",
       "  0.4205619692802429,\n",
       "  0.41871270537376404,\n",
       "  0.42108359932899475,\n",
       "  0.41624128818511963,\n",
       "  0.4169585406780243,\n",
       "  0.4146274924278259,\n",
       "  0.4143194556236267,\n",
       "  0.4191949665546417]}"
      ]
     },
     "execution_count": 21,
     "metadata": {},
     "output_type": "execute_result"
    }
   ],
   "source": [
    "model_history.history"
   ]
  },
  {
   "cell_type": "code",
   "execution_count": 22,
   "metadata": {},
   "outputs": [
    {
     "data": {
      "image/png": "[encoded data removed]",
      "text/plain": [
       "<Figure size 576x360 with 1 Axes>"
      ]
     },
     "metadata": {
      "needs_background": "light"
     },
     "output_type": "display_data"
    }
   ],
   "source": [
    "pd.DataFrame(model_history.history).plot(figsize=(8, 5))\n",
    "plt.grid(True)\n",
    "plt.gca().set_ylim(0, 1)\n",
    "\n",
    "plt.show()"
   ]
  },
  {
   "cell_type": "code",
   "execution_count": 23,
   "metadata": {},
   "outputs": [],
   "source": [
    "X_new = X_test[:3]"
   ]
  },
  {
   "cell_type": "code",
   "execution_count": 24,
   "metadata": {},
   "outputs": [
    {
     "name": "stdout",
     "output_type": "stream",
     "text": [
      "1/1 [==============================] - 0s 71ms/step\n",
      "[[0.60721976]\n",
      " [1.8602647 ]\n",
      " [3.792632  ]]\n",
      "[0.477   0.458   5.00001]\n"
     ]
    }
   ],
   "source": [
    "y_pred = model.predict(X_new)\n",
    "print (y_pred)\n",
    "print(y_test[:3])"
   ]
  },
  {
   "cell_type": "code",
   "execution_count": 25,
   "metadata": {},
   "outputs": [],
   "source": [
    "del model"
   ]
  },
  {
   "cell_type": "code",
   "execution_count": 26,
   "metadata": {},
   "outputs": [],
   "source": [
    "keras.backend.clear_session()"
   ]
  },
  {
   "cell_type": "markdown",
   "metadata": {},
   "source": []
  },
  {
   "cell_type": "code",
   "execution_count": null,
   "metadata": {},
   "outputs": [],
   "source": []
  },
  {
   "cell_type": "code",
   "execution_count": null,
   "metadata": {},
   "outputs": [],
   "source": []
  },
  {
   "cell_type": "code",
   "execution_count": null,
   "metadata": {},
   "outputs": [],
   "source": []
  },
  {
   "cell_type": "code",
   "execution_count": null,
   "metadata": {},
   "outputs": [],
   "source": []
  },
  {
   "cell_type": "code",
   "execution_count": null,
   "metadata": {},
   "outputs": [],
   "source": []
  },
  {
   "cell_type": "code",
   "execution_count": null,
   "metadata": {},
   "outputs": [],
   "source": []
  },
  {
   "cell_type": "code",
   "execution_count": 27,
   "metadata": {},
   "outputs": [
    {
     "ename": "NameError",
     "evalue": "name 'model' is not defined",
     "output_type": "error",
     "traceback": [
      "\u001b[1;31m---------------------------------------------------------------------------\u001b[0m",
      "\u001b[1;31mNameError\u001b[0m                                 Traceback (most recent call last)",
      "Input \u001b[1;32mIn [27]\u001b[0m, in \u001b[0;36m<cell line: 1>\u001b[1;34m()\u001b[0m\n\u001b[1;32m----> 1\u001b[0m \u001b[38;5;28;01mdel\u001b[39;00m model\n",
      "\u001b[1;31mNameError\u001b[0m: name 'model' is not defined"
     ]
    }
   ],
   "source": [
    "del model"
   ]
  },
  {
   "cell_type": "code",
   "execution_count": 28,
   "metadata": {},
   "outputs": [],
   "source": [
    "keras.backend.clear_session()"
   ]
  },
  {
   "cell_type": "markdown",
   "metadata": {},
   "source": [
    "# Functional API"
   ]
  },
  {
   "cell_type": "markdown",
   "metadata": {},
   "source": [
    "Not all neural network models are simply sequential. Some may have complex topologies. Some may have multiple inputs and/or multiple outputs. For example, a Wide & Deep neural network (see [paper](https://ai.google/research/pubs/pub45413)) connects all or part of the inputs directly to the output layer.\n",
    "\n",
    "![](Functional.JPG \"Title\")"
   ]
  },
  {
   "cell_type": "code",
   "execution_count": 28,
   "metadata": {},
   "outputs": [],
   "source": [
    "input_ = keras.layers.Input(shape=X_train.shape[1:])\n",
    "hidden1 = keras.layers.Dense(30, activation=\"relu\")(input_)\n",
    "hidden2 = keras.layers.Dense(30, activation=\"relu\")(hidden1)\n",
    "concat = keras.layers.concatenate([input_, hidden2])\n",
    "output = keras.layers.Dense(1)(concat)\n",
    "model = keras.models.Model(inputs=[input_], outputs=[output])"
   ]
  },
  {
   "cell_type": "code",
   "execution_count": 29,
   "metadata": {},
   "outputs": [
    {
     "name": "stdout",
     "output_type": "stream",
     "text": [
      "Model: \"model\"\n",
      "__________________________________________________________________________________________________\n",
      " Layer (type)                   Output Shape         Param #     Connected to                     \n",
      "==================================================================================================\n",
      " input_1 (InputLayer)           [(None, 8)]          0           []                               \n",
      "                                                                                                  \n",
      " dense (Dense)                  (None, 30)           270         ['input_1[0][0]']                \n",
      "                                                                                                  \n",
      " dense_1 (Dense)                (None, 30)           930         ['dense[0][0]']                  \n",
      "                                                                                                  \n",
      " concatenate (Concatenate)      (None, 38)           0           ['input_1[0][0]',                \n",
      "                                                                  'dense_1[0][0]']                \n",
      "                                                                                                  \n",
      " dense_2 (Dense)                (None, 1)            39          ['concatenate[0][0]']            \n",
      "                                                                                                  \n",
      "==================================================================================================\n",
      "Total params: 1,239\n",
      "Trainable params: 1,239\n",
      "Non-trainable params: 0\n",
      "__________________________________________________________________________________________________\n"
     ]
    }
   ],
   "source": [
    "model.summary()"
   ]
  },
  {
   "cell_type": "code",
   "execution_count": 30,
   "metadata": {},
   "outputs": [
    {
     "name": "stderr",
     "output_type": "stream",
     "text": [
      "C:\\Users\\hp\\anaconda3\\lib\\site-packages\\keras\\optimizers\\optimizer_v2\\gradient_descent.py:108: UserWarning: The `lr` argument is deprecated, use `learning_rate` instead.\n",
      "  super(SGD, self).__init__(name, **kwargs)\n"
     ]
    }
   ],
   "source": [
    "model.compile(loss=\"mean_squared_error\", \n",
    "              optimizer=keras.optimizers.SGD(lr=1e-3), \n",
    "              metrics=['mae'])"
   ]
  },
  {
   "cell_type": "code",
   "execution_count": 35,
   "metadata": {},
   "outputs": [
    {
     "name": "stdout",
     "output_type": "stream",
     "text": [
      "Epoch 1/80\n",
      "363/363 [==============================] - 1s 1ms/step - loss: 0.3456 - mae: 0.4151 - val_loss: 0.3376 - val_mae: 0.4073\n",
      "Epoch 2/80\n",
      "363/363 [==============================] - 0s 1ms/step - loss: 0.3454 - mae: 0.4144 - val_loss: 0.3825 - val_mae: 0.4141\n",
      "Epoch 3/80\n",
      "363/363 [==============================] - 0s 1ms/step - loss: 0.3448 - mae: 0.4150 - val_loss: 0.3491 - val_mae: 0.4085\n",
      "Epoch 4/80\n",
      "363/363 [==============================] - 0s 1ms/step - loss: 0.3439 - mae: 0.4140 - val_loss: 0.3415 - val_mae: 0.4101\n",
      "Epoch 5/80\n",
      "363/363 [==============================] - 1s 3ms/step - loss: 0.3440 - mae: 0.4138 - val_loss: 0.3408 - val_mae: 0.4085\n",
      "Epoch 6/80\n",
      "363/363 [==============================] - 1s 2ms/step - loss: 0.3432 - mae: 0.4138 - val_loss: 0.3480 - val_mae: 0.4078\n",
      "Epoch 7/80\n",
      "363/363 [==============================] - 0s 1ms/step - loss: 0.3432 - mae: 0.4132 - val_loss: 0.3342 - val_mae: 0.4074\n",
      "Epoch 8/80\n",
      "363/363 [==============================] - 0s 1ms/step - loss: 0.3425 - mae: 0.4133 - val_loss: 0.3338 - val_mae: 0.4057\n",
      "Epoch 9/80\n",
      "363/363 [==============================] - 0s 1ms/step - loss: 0.3420 - mae: 0.4129 - val_loss: 0.3508 - val_mae: 0.4064\n",
      "Epoch 10/80\n",
      "363/363 [==============================] - 1s 1ms/step - loss: 0.3416 - mae: 0.4124 - val_loss: 0.3481 - val_mae: 0.4056\n",
      "Epoch 11/80\n",
      "363/363 [==============================] - 0s 1ms/step - loss: 0.3414 - mae: 0.4120 - val_loss: 0.3261 - val_mae: 0.4044\n",
      "Epoch 12/80\n",
      "363/363 [==============================] - 1s 2ms/step - loss: 0.3410 - mae: 0.4117 - val_loss: 0.3760 - val_mae: 0.4085\n",
      "Epoch 13/80\n",
      "363/363 [==============================] - 0s 1ms/step - loss: 0.3406 - mae: 0.4115 - val_loss: 0.3338 - val_mae: 0.4066\n",
      "Epoch 14/80\n",
      "363/363 [==============================] - 0s 1ms/step - loss: 0.3400 - mae: 0.4108 - val_loss: 0.3298 - val_mae: 0.4054\n",
      "Epoch 15/80\n",
      "363/363 [==============================] - 1s 1ms/step - loss: 0.3398 - mae: 0.4109 - val_loss: 0.3502 - val_mae: 0.4071\n",
      "Epoch 16/80\n",
      "363/363 [==============================] - 0s 1ms/step - loss: 0.3393 - mae: 0.4108 - val_loss: 0.3220 - val_mae: 0.4029\n",
      "Epoch 17/80\n",
      "363/363 [==============================] - 1s 1ms/step - loss: 0.3389 - mae: 0.4105 - val_loss: 0.3672 - val_mae: 0.4071\n",
      "Epoch 18/80\n",
      "363/363 [==============================] - 0s 1ms/step - loss: 0.3390 - mae: 0.4104 - val_loss: 0.3477 - val_mae: 0.4043\n",
      "Epoch 19/80\n",
      "363/363 [==============================] - 1s 3ms/step - loss: 0.3384 - mae: 0.4098 - val_loss: 0.3386 - val_mae: 0.4041\n",
      "Epoch 20/80\n",
      "363/363 [==============================] - 1s 2ms/step - loss: 0.3378 - mae: 0.4095 - val_loss: 0.3693 - val_mae: 0.4072\n",
      "Epoch 21/80\n",
      "363/363 [==============================] - 0s 1ms/step - loss: 0.3375 - mae: 0.4091 - val_loss: 0.3421 - val_mae: 0.4063\n",
      "Epoch 22/80\n",
      "363/363 [==============================] - 0s 1ms/step - loss: 0.3370 - mae: 0.4093 - val_loss: 0.3965 - val_mae: 0.4103\n",
      "Epoch 23/80\n",
      "363/363 [==============================] - 1s 3ms/step - loss: 0.3369 - mae: 0.4092 - val_loss: 0.3203 - val_mae: 0.3989\n",
      "Epoch 24/80\n",
      "363/363 [==============================] - 1s 2ms/step - loss: 0.3363 - mae: 0.4082 - val_loss: 0.3633 - val_mae: 0.4052\n",
      "Epoch 25/80\n",
      "363/363 [==============================] - 0s 1ms/step - loss: 0.3360 - mae: 0.4083 - val_loss: 0.3564 - val_mae: 0.4050\n",
      "Epoch 26/80\n",
      "363/363 [==============================] - 1s 1ms/step - loss: 0.3357 - mae: 0.4080 - val_loss: 0.3624 - val_mae: 0.4046\n",
      "Epoch 27/80\n",
      "363/363 [==============================] - 0s 1ms/step - loss: 0.3356 - mae: 0.4080 - val_loss: 0.3202 - val_mae: 0.3997\n",
      "Epoch 28/80\n",
      "363/363 [==============================] - 1s 1ms/step - loss: 0.3350 - mae: 0.4073 - val_loss: 0.3550 - val_mae: 0.4051\n",
      "Epoch 29/80\n",
      "363/363 [==============================] - 1s 1ms/step - loss: 0.3348 - mae: 0.4073 - val_loss: 0.3366 - val_mae: 0.4029\n",
      "Epoch 30/80\n",
      "363/363 [==============================] - 1s 2ms/step - loss: 0.3342 - mae: 0.4070 - val_loss: 0.3504 - val_mae: 0.4027\n",
      "Epoch 31/80\n",
      "363/363 [==============================] - 1s 2ms/step - loss: 0.3336 - mae: 0.4064 - val_loss: 0.3273 - val_mae: 0.4003\n",
      "Epoch 32/80\n",
      "363/363 [==============================] - 0s 1ms/step - loss: 0.3335 - mae: 0.4063 - val_loss: 0.3565 - val_mae: 0.4055\n",
      "Epoch 33/80\n",
      "363/363 [==============================] - 1s 4ms/step - loss: 0.3333 - mae: 0.4067 - val_loss: 0.3245 - val_mae: 0.4006\n",
      "Epoch 34/80\n",
      "363/363 [==============================] - 0s 1ms/step - loss: 0.3327 - mae: 0.4059 - val_loss: 0.3287 - val_mae: 0.4016\n",
      "Epoch 35/80\n",
      "363/363 [==============================] - 0s 1ms/step - loss: 0.3327 - mae: 0.4059 - val_loss: 0.3612 - val_mae: 0.4054\n",
      "Epoch 36/80\n",
      "363/363 [==============================] - 0s 1ms/step - loss: 0.3320 - mae: 0.4057 - val_loss: 0.3179 - val_mae: 0.3981\n",
      "Epoch 37/80\n",
      "363/363 [==============================] - 0s 1ms/step - loss: 0.3321 - mae: 0.4054 - val_loss: 0.3447 - val_mae: 0.4021\n",
      "Epoch 38/80\n",
      "363/363 [==============================] - 0s 1ms/step - loss: 0.3315 - mae: 0.4054 - val_loss: 0.3225 - val_mae: 0.3992\n",
      "Epoch 39/80\n",
      "363/363 [==============================] - 0s 1ms/step - loss: 0.3309 - mae: 0.4047 - val_loss: 0.3319 - val_mae: 0.3996\n",
      "Epoch 40/80\n",
      "363/363 [==============================] - 0s 1ms/step - loss: 0.3306 - mae: 0.4046 - val_loss: 0.3262 - val_mae: 0.3972\n",
      "Epoch 41/80\n",
      "363/363 [==============================] - 0s 1ms/step - loss: 0.3309 - mae: 0.4045 - val_loss: 0.3519 - val_mae: 0.4010\n",
      "Epoch 42/80\n",
      "363/363 [==============================] - 0s 1ms/step - loss: 0.3309 - mae: 0.4047 - val_loss: 0.3302 - val_mae: 0.3995\n",
      "Epoch 43/80\n",
      "363/363 [==============================] - 0s 1ms/step - loss: 0.3301 - mae: 0.4039 - val_loss: 0.3382 - val_mae: 0.3997\n",
      "Epoch 44/80\n",
      "363/363 [==============================] - 1s 4ms/step - loss: 0.3294 - mae: 0.4035 - val_loss: 0.3459 - val_mae: 0.4021\n",
      "Epoch 45/80\n",
      "363/363 [==============================] - 1s 1ms/step - loss: 0.3298 - mae: 0.4040 - val_loss: 0.3211 - val_mae: 0.3960\n",
      "Epoch 46/80\n",
      "363/363 [==============================] - 0s 1ms/step - loss: 0.3289 - mae: 0.4029 - val_loss: 0.3271 - val_mae: 0.3982\n",
      "Epoch 47/80\n",
      "363/363 [==============================] - 0s 1ms/step - loss: 0.3288 - mae: 0.4034 - val_loss: 0.3378 - val_mae: 0.3985\n",
      "Epoch 48/80\n",
      "363/363 [==============================] - 1s 1ms/step - loss: 0.3285 - mae: 0.4028 - val_loss: 0.3323 - val_mae: 0.3988\n",
      "Epoch 49/80\n",
      "363/363 [==============================] - 1s 1ms/step - loss: 0.3289 - mae: 0.4032 - val_loss: 0.3171 - val_mae: 0.3974\n",
      "Epoch 50/80\n",
      "363/363 [==============================] - 0s 1ms/step - loss: 0.3279 - mae: 0.4030 - val_loss: 0.3120 - val_mae: 0.3937\n",
      "Epoch 51/80\n",
      "363/363 [==============================] - 0s 1ms/step - loss: 0.3275 - mae: 0.4021 - val_loss: 0.3443 - val_mae: 0.4002\n",
      "Epoch 52/80\n",
      "363/363 [==============================] - 0s 1ms/step - loss: 0.3273 - mae: 0.4022 - val_loss: 0.3136 - val_mae: 0.3941\n",
      "Epoch 53/80\n",
      "363/363 [==============================] - 0s 1ms/step - loss: 0.3272 - mae: 0.4022 - val_loss: 0.3599 - val_mae: 0.3996\n",
      "Epoch 54/80\n",
      "363/363 [==============================] - 0s 1ms/step - loss: 0.3271 - mae: 0.4023 - val_loss: 0.3132 - val_mae: 0.3953\n",
      "Epoch 55/80\n",
      "363/363 [==============================] - 0s 1ms/step - loss: 0.3267 - mae: 0.4021 - val_loss: 0.3219 - val_mae: 0.3954\n",
      "Epoch 56/80\n",
      "363/363 [==============================] - 0s 1ms/step - loss: 0.3262 - mae: 0.4013 - val_loss: 0.3131 - val_mae: 0.3945\n",
      "Epoch 57/80\n",
      "363/363 [==============================] - 1s 2ms/step - loss: 0.3261 - mae: 0.4017 - val_loss: 0.3114 - val_mae: 0.3933\n",
      "Epoch 58/80\n",
      "363/363 [==============================] - 1s 3ms/step - loss: 0.3255 - mae: 0.4011 - val_loss: 0.3681 - val_mae: 0.3981\n",
      "Epoch 59/80\n",
      "363/363 [==============================] - 2s 4ms/step - loss: 0.3263 - mae: 0.4013 - val_loss: 0.3136 - val_mae: 0.3943\n",
      "Epoch 60/80\n",
      "363/363 [==============================] - 1s 3ms/step - loss: 0.3256 - mae: 0.4010 - val_loss: 0.3226 - val_mae: 0.3958\n",
      "Epoch 61/80\n",
      "363/363 [==============================] - 1s 2ms/step - loss: 0.3247 - mae: 0.4002 - val_loss: 0.3196 - val_mae: 0.3984\n",
      "Epoch 62/80\n"
     ]
    },
    {
     "name": "stdout",
     "output_type": "stream",
     "text": [
      "363/363 [==============================] - 1s 2ms/step - loss: 0.3250 - mae: 0.4011 - val_loss: 0.3270 - val_mae: 0.3948\n",
      "Epoch 63/80\n",
      "363/363 [==============================] - 1s 2ms/step - loss: 0.3242 - mae: 0.3999 - val_loss: 0.3133 - val_mae: 0.3959\n",
      "Epoch 64/80\n",
      "363/363 [==============================] - 2s 5ms/step - loss: 0.3244 - mae: 0.4003 - val_loss: 0.3141 - val_mae: 0.3939\n",
      "Epoch 65/80\n",
      "363/363 [==============================] - 2s 5ms/step - loss: 0.3244 - mae: 0.4003 - val_loss: 0.3147 - val_mae: 0.3936\n",
      "Epoch 66/80\n",
      "363/363 [==============================] - 1s 4ms/step - loss: 0.3238 - mae: 0.3998 - val_loss: 0.3106 - val_mae: 0.3927\n",
      "Epoch 67/80\n",
      "363/363 [==============================] - 1s 1ms/step - loss: 0.3236 - mae: 0.3998 - val_loss: 0.3255 - val_mae: 0.3954\n",
      "Epoch 68/80\n",
      "363/363 [==============================] - 0s 1ms/step - loss: 0.3235 - mae: 0.3995 - val_loss: 0.3109 - val_mae: 0.3922\n",
      "Epoch 69/80\n",
      "363/363 [==============================] - 0s 1ms/step - loss: 0.3232 - mae: 0.3989 - val_loss: 0.3127 - val_mae: 0.3945\n",
      "Epoch 70/80\n",
      "363/363 [==============================] - 1s 3ms/step - loss: 0.3226 - mae: 0.3992 - val_loss: 0.3538 - val_mae: 0.3953\n",
      "Epoch 71/80\n",
      "363/363 [==============================] - 0s 1ms/step - loss: 0.3231 - mae: 0.3993 - val_loss: 0.3207 - val_mae: 0.3931\n",
      "Epoch 72/80\n",
      "363/363 [==============================] - 0s 1ms/step - loss: 0.3225 - mae: 0.3987 - val_loss: 0.3164 - val_mae: 0.3923\n",
      "Epoch 73/80\n",
      "363/363 [==============================] - 0s 1ms/step - loss: 0.3218 - mae: 0.3984 - val_loss: 0.3082 - val_mae: 0.3901\n",
      "Epoch 74/80\n",
      "363/363 [==============================] - 0s 1ms/step - loss: 0.3223 - mae: 0.3987 - val_loss: 0.3476 - val_mae: 0.3954\n",
      "Epoch 75/80\n",
      "363/363 [==============================] - 0s 1ms/step - loss: 0.3218 - mae: 0.3979 - val_loss: 0.3242 - val_mae: 0.3959\n",
      "Epoch 76/80\n",
      "363/363 [==============================] - 0s 1ms/step - loss: 0.3215 - mae: 0.3983 - val_loss: 0.3156 - val_mae: 0.3915\n",
      "Epoch 77/80\n",
      "363/363 [==============================] - 0s 1ms/step - loss: 0.3211 - mae: 0.3974 - val_loss: 0.3244 - val_mae: 0.3948\n",
      "Epoch 78/80\n",
      "363/363 [==============================] - 0s 1ms/step - loss: 0.3209 - mae: 0.3980 - val_loss: 0.3279 - val_mae: 0.3938\n",
      "Epoch 79/80\n",
      "363/363 [==============================] - 0s 1ms/step - loss: 0.3207 - mae: 0.3974 - val_loss: 0.3102 - val_mae: 0.3918\n",
      "Epoch 80/80\n",
      "363/363 [==============================] - 0s 1ms/step - loss: 0.3202 - mae: 0.3973 - val_loss: 0.3195 - val_mae: 0.3912\n"
     ]
    }
   ],
   "source": [
    "model_history = model.fit(X_train, y_train, epochs=80, validation_data=(X_valid, y_valid))"
   ]
  },
  {
   "cell_type": "code",
   "execution_count": 36,
   "metadata": {},
   "outputs": [
    {
     "name": "stdout",
     "output_type": "stream",
     "text": [
      "162/162 [==============================] - 0s 2ms/step - loss: 0.3246 - mae: 0.3981\n"
     ]
    }
   ],
   "source": [
    "mae_test = model.evaluate(X_test, y_test)\n"
   ]
  },
  {
   "cell_type": "code",
   "execution_count": 37,
   "metadata": {},
   "outputs": [
    {
     "data": {
      "text/plain": [
       "{'loss': [0.3455650210380554,\n",
       "  0.3453727066516876,\n",
       "  0.34484273195266724,\n",
       "  0.34393706917762756,\n",
       "  0.34404730796813965,\n",
       "  0.3431888222694397,\n",
       "  0.3431897461414337,\n",
       "  0.34253689646720886,\n",
       "  0.3419821858406067,\n",
       "  0.34164297580718994,\n",
       "  0.3413829505443573,\n",
       "  0.3410247564315796,\n",
       "  0.34061795473098755,\n",
       "  0.3400120735168457,\n",
       "  0.33979862928390503,\n",
       "  0.3392840027809143,\n",
       "  0.3388920724391937,\n",
       "  0.33904674649238586,\n",
       "  0.33838045597076416,\n",
       "  0.33783167600631714,\n",
       "  0.33752086758613586,\n",
       "  0.3369758129119873,\n",
       "  0.3368613123893738,\n",
       "  0.33630454540252686,\n",
       "  0.335951030254364,\n",
       "  0.33570003509521484,\n",
       "  0.33563587069511414,\n",
       "  0.33502811193466187,\n",
       "  0.3347855508327484,\n",
       "  0.3341604173183441,\n",
       "  0.33355656266212463,\n",
       "  0.3335135579109192,\n",
       "  0.3333044946193695,\n",
       "  0.3327399492263794,\n",
       "  0.3326999843120575,\n",
       "  0.3319782614707947,\n",
       "  0.3320977985858917,\n",
       "  0.33151695132255554,\n",
       "  0.33094415068626404,\n",
       "  0.3305876553058624,\n",
       "  0.33094361424446106,\n",
       "  0.3309093713760376,\n",
       "  0.3300573527812958,\n",
       "  0.3293668031692505,\n",
       "  0.3297658860683441,\n",
       "  0.3289339244365692,\n",
       "  0.3288070261478424,\n",
       "  0.32847467064857483,\n",
       "  0.3289424180984497,\n",
       "  0.3278878927230835,\n",
       "  0.3275165557861328,\n",
       "  0.32725971937179565,\n",
       "  0.3272383511066437,\n",
       "  0.3271002769470215,\n",
       "  0.32670149207115173,\n",
       "  0.32616177201271057,\n",
       "  0.32613781094551086,\n",
       "  0.32552972435951233,\n",
       "  0.32630836963653564,\n",
       "  0.3255693018436432,\n",
       "  0.32474395632743835,\n",
       "  0.3249521255493164,\n",
       "  0.3241579234600067,\n",
       "  0.32442548871040344,\n",
       "  0.32439830899238586,\n",
       "  0.32381224632263184,\n",
       "  0.3236047029495239,\n",
       "  0.323481023311615,\n",
       "  0.32320013642311096,\n",
       "  0.3226265013217926,\n",
       "  0.3230988383293152,\n",
       "  0.3224528431892395,\n",
       "  0.32177475094795227,\n",
       "  0.32229793071746826,\n",
       "  0.3217870891094208,\n",
       "  0.3215382397174835,\n",
       "  0.32110804319381714,\n",
       "  0.32088184356689453,\n",
       "  0.3206755220890045,\n",
       "  0.320239394903183],\n",
       " 'mae': [0.41510942578315735,\n",
       "  0.4144354462623596,\n",
       "  0.414990097284317,\n",
       "  0.4139561355113983,\n",
       "  0.4137856662273407,\n",
       "  0.4137819707393646,\n",
       "  0.41319915652275085,\n",
       "  0.4132969379425049,\n",
       "  0.4128670394420624,\n",
       "  0.41241732239723206,\n",
       "  0.4120020568370819,\n",
       "  0.4116722643375397,\n",
       "  0.41152268648147583,\n",
       "  0.41083642840385437,\n",
       "  0.4109276235103607,\n",
       "  0.41078969836235046,\n",
       "  0.4105154275894165,\n",
       "  0.4104102849960327,\n",
       "  0.40978845953941345,\n",
       "  0.4094560444355011,\n",
       "  0.4091029763221741,\n",
       "  0.4092905819416046,\n",
       "  0.40922826528549194,\n",
       "  0.4081876873970032,\n",
       "  0.40831458568573,\n",
       "  0.40796399116516113,\n",
       "  0.4079664349555969,\n",
       "  0.407259464263916,\n",
       "  0.4073353111743927,\n",
       "  0.4069799780845642,\n",
       "  0.4063681364059448,\n",
       "  0.40632978081703186,\n",
       "  0.406738817691803,\n",
       "  0.4059365391731262,\n",
       "  0.40586695075035095,\n",
       "  0.4056991934776306,\n",
       "  0.405367910861969,\n",
       "  0.4053706228733063,\n",
       "  0.40467509627342224,\n",
       "  0.4046297073364258,\n",
       "  0.4045223891735077,\n",
       "  0.40471357107162476,\n",
       "  0.4038556218147278,\n",
       "  0.4034642279148102,\n",
       "  0.4040478467941284,\n",
       "  0.4029027819633484,\n",
       "  0.40341809391975403,\n",
       "  0.40281400084495544,\n",
       "  0.4031907320022583,\n",
       "  0.40299785137176514,\n",
       "  0.40205520391464233,\n",
       "  0.4022465944290161,\n",
       "  0.4021972715854645,\n",
       "  0.40225207805633545,\n",
       "  0.4021158516407013,\n",
       "  0.4013137221336365,\n",
       "  0.40169990062713623,\n",
       "  0.4010508358478546,\n",
       "  0.4013307988643646,\n",
       "  0.4009934663772583,\n",
       "  0.4001822769641876,\n",
       "  0.40112805366516113,\n",
       "  0.3999386429786682,\n",
       "  0.40033236145973206,\n",
       "  0.4003233015537262,\n",
       "  0.39978134632110596,\n",
       "  0.3997580409049988,\n",
       "  0.3995348811149597,\n",
       "  0.3989236056804657,\n",
       "  0.3991856873035431,\n",
       "  0.39929068088531494,\n",
       "  0.3986852169036865,\n",
       "  0.3984154760837555,\n",
       "  0.398730605840683,\n",
       "  0.3979286849498749,\n",
       "  0.39826247096061707,\n",
       "  0.39743325114250183,\n",
       "  0.39795297384262085,\n",
       "  0.3973579406738281,\n",
       "  0.3973256051540375],\n",
       " 'val_loss': [0.3376273810863495,\n",
       "  0.38253507018089294,\n",
       "  0.34908103942871094,\n",
       "  0.34150809049606323,\n",
       "  0.3407731056213379,\n",
       "  0.3479922115802765,\n",
       "  0.3342054486274719,\n",
       "  0.333844393491745,\n",
       "  0.35079726576805115,\n",
       "  0.34807780385017395,\n",
       "  0.32608333230018616,\n",
       "  0.3759933114051819,\n",
       "  0.3337906301021576,\n",
       "  0.32978296279907227,\n",
       "  0.3501952588558197,\n",
       "  0.32200971245765686,\n",
       "  0.36718520522117615,\n",
       "  0.34766411781311035,\n",
       "  0.3385929763317108,\n",
       "  0.3693207800388336,\n",
       "  0.34206312894821167,\n",
       "  0.3964814841747284,\n",
       "  0.32031336426734924,\n",
       "  0.3633410930633545,\n",
       "  0.3563820421695709,\n",
       "  0.36238163709640503,\n",
       "  0.3202224671840668,\n",
       "  0.35496053099632263,\n",
       "  0.3365723788738251,\n",
       "  0.35043224692344666,\n",
       "  0.32732507586479187,\n",
       "  0.3564789891242981,\n",
       "  0.3244880735874176,\n",
       "  0.32873860001564026,\n",
       "  0.3612024188041687,\n",
       "  0.31786781549453735,\n",
       "  0.3447068929672241,\n",
       "  0.32246527075767517,\n",
       "  0.3318779766559601,\n",
       "  0.3262273073196411,\n",
       "  0.35185471177101135,\n",
       "  0.3301556706428528,\n",
       "  0.33815890550613403,\n",
       "  0.3459460139274597,\n",
       "  0.3210607171058655,\n",
       "  0.3270527422428131,\n",
       "  0.3378256857395172,\n",
       "  0.33233872056007385,\n",
       "  0.31713467836380005,\n",
       "  0.3119891881942749,\n",
       "  0.3443343937397003,\n",
       "  0.31358832120895386,\n",
       "  0.3599095344543457,\n",
       "  0.3132147192955017,\n",
       "  0.3218536972999573,\n",
       "  0.3130941390991211,\n",
       "  0.31143292784690857,\n",
       "  0.36806151270866394,\n",
       "  0.3136126399040222,\n",
       "  0.32263949513435364,\n",
       "  0.319587767124176,\n",
       "  0.3270406126976013,\n",
       "  0.3133484721183777,\n",
       "  0.3141246736049652,\n",
       "  0.31467288732528687,\n",
       "  0.3105925917625427,\n",
       "  0.3254701495170593,\n",
       "  0.3109394311904907,\n",
       "  0.31274113059043884,\n",
       "  0.3538130819797516,\n",
       "  0.3207033574581146,\n",
       "  0.3164338171482086,\n",
       "  0.30822545289993286,\n",
       "  0.3476492166519165,\n",
       "  0.3242042362689972,\n",
       "  0.3156379461288452,\n",
       "  0.32435014843940735,\n",
       "  0.32793402671813965,\n",
       "  0.3102191388607025,\n",
       "  0.31946757435798645],\n",
       " 'val_mae': [0.40726444125175476,\n",
       "  0.41412681341171265,\n",
       "  0.4085100591182709,\n",
       "  0.41009482741355896,\n",
       "  0.4084835350513458,\n",
       "  0.40783533453941345,\n",
       "  0.4073992371559143,\n",
       "  0.4057255983352661,\n",
       "  0.4063979983329773,\n",
       "  0.40555861592292786,\n",
       "  0.4043671190738678,\n",
       "  0.4084874391555786,\n",
       "  0.40660732984542847,\n",
       "  0.40544238686561584,\n",
       "  0.4070739150047302,\n",
       "  0.4028935730457306,\n",
       "  0.4070756733417511,\n",
       "  0.40431809425354004,\n",
       "  0.4040568768978119,\n",
       "  0.4072097837924957,\n",
       "  0.40629976987838745,\n",
       "  0.41033294796943665,\n",
       "  0.3988603949546814,\n",
       "  0.40518659353256226,\n",
       "  0.40503811836242676,\n",
       "  0.4046231210231781,\n",
       "  0.3996659219264984,\n",
       "  0.4051362872123718,\n",
       "  0.4029387831687927,\n",
       "  0.40270864963531494,\n",
       "  0.4003221392631531,\n",
       "  0.4055359363555908,\n",
       "  0.40057170391082764,\n",
       "  0.40155354142189026,\n",
       "  0.40542444586753845,\n",
       "  0.39806023240089417,\n",
       "  0.40209507942199707,\n",
       "  0.39924299716949463,\n",
       "  0.399567574262619,\n",
       "  0.39723286032676697,\n",
       "  0.40095359086990356,\n",
       "  0.3995436131954193,\n",
       "  0.3996531367301941,\n",
       "  0.402141809463501,\n",
       "  0.39600080251693726,\n",
       "  0.3982061743736267,\n",
       "  0.39853641390800476,\n",
       "  0.3988441526889801,\n",
       "  0.39742082357406616,\n",
       "  0.3936815857887268,\n",
       "  0.4002463221549988,\n",
       "  0.3941126763820648,\n",
       "  0.39955955743789673,\n",
       "  0.3952540159225464,\n",
       "  0.39535877108573914,\n",
       "  0.3945159912109375,\n",
       "  0.3932763338088989,\n",
       "  0.3980664908885956,\n",
       "  0.3942506015300751,\n",
       "  0.3958333730697632,\n",
       "  0.3984442949295044,\n",
       "  0.39484548568725586,\n",
       "  0.39585205912590027,\n",
       "  0.39391133189201355,\n",
       "  0.39359813928604126,\n",
       "  0.3926865756511688,\n",
       "  0.3953659236431122,\n",
       "  0.39222586154937744,\n",
       "  0.39447471499443054,\n",
       "  0.39534974098205566,\n",
       "  0.3931150436401367,\n",
       "  0.39225026965141296,\n",
       "  0.3900596499443054,\n",
       "  0.3953976035118103,\n",
       "  0.39593109488487244,\n",
       "  0.3914782404899597,\n",
       "  0.3948043882846832,\n",
       "  0.39375120401382446,\n",
       "  0.391804963350296,\n",
       "  0.39123624563217163]}"
      ]
     },
     "execution_count": 37,
     "metadata": {},
     "output_type": "execute_result"
    }
   ],
   "source": [
    "model_history.history"
   ]
  },
  {
   "cell_type": "code",
   "execution_count": 38,
   "metadata": {},
   "outputs": [
    {
     "data": {
      "image/png": "[encoded data removed]",
      "text/plain": [
       "<Figure size 576x360 with 1 Axes>"
      ]
     },
     "metadata": {
      "needs_background": "light"
     },
     "output_type": "display_data"
    }
   ],
   "source": [
    "pd.DataFrame(model_history.history).plot(figsize=(8, 5))\n",
    "plt.grid(True)\n",
    "plt.gca().set_ylim(0, 1)\n",
    "\n",
    "plt.show()"
   ]
  },
  {
   "cell_type": "code",
   "execution_count": null,
   "metadata": {},
   "outputs": [],
   "source": []
  },
  {
   "cell_type": "code",
   "execution_count": null,
   "metadata": {},
   "outputs": [],
   "source": []
  },
  {
   "cell_type": "code",
   "execution_count": null,
   "metadata": {},
   "outputs": [],
   "source": []
  },
  {
   "cell_type": "code",
   "execution_count": null,
   "metadata": {},
   "outputs": [],
   "source": []
  },
  {
   "cell_type": "code",
   "execution_count": null,
   "metadata": {},
   "outputs": [],
   "source": []
  },
  {
   "cell_type": "code",
   "execution_count": 48,
   "metadata": {},
   "outputs": [
    {
     "data": {
      "text/plain": [
       "'C:\\\\Users\\\\pukhr'"
      ]
     },
     "execution_count": 48,
     "metadata": {},
     "output_type": "execute_result"
    }
   ],
   "source": []
  },
  {
   "cell_type": "code",
   "execution_count": 47,
   "metadata": {},
   "outputs": [
    {
     "name": "stdout",
     "output_type": "stream",
     "text": [
      "C:\\Users\\pukhr\n"
     ]
    }
   ],
   "source": []
  },
  {
   "cell_type": "code",
   "execution_count": null,
   "metadata": {},
   "outputs": [],
   "source": []
  },
  {
   "cell_type": "code",
   "execution_count": null,
   "metadata": {},
   "outputs": [],
   "source": []
  },
  {
   "cell_type": "markdown",
   "metadata": {},
   "source": [
    "# Saving and Restoring"
   ]
  },
  {
   "cell_type": "code",
   "execution_count": 39,
   "metadata": {},
   "outputs": [],
   "source": [
    "model.save(\"my_Func_model.h5\")"
   ]
  },
  {
   "cell_type": "code",
   "execution_count": 40,
   "metadata": {},
   "outputs": [
    {
     "data": {
      "text/plain": [
       "'C:\\\\Users\\\\hp\\\\Deep Learning Internshala Training\\\\Artificial Neural Network'"
      ]
     },
     "execution_count": 40,
     "metadata": {},
     "output_type": "execute_result"
    }
   ],
   "source": [
    "%pwd"
   ]
  },
  {
   "cell_type": "code",
   "execution_count": 41,
   "metadata": {},
   "outputs": [
    {
     "name": "stdout",
     "output_type": "stream",
     "text": [
      "C:\\Users\\hp\\Deep Learning Internshala Training\\Artificial Neural Network\n"
     ]
    }
   ],
   "source": [
    "%cd C:\\\\Users\\\\hp\\\\Deep Learning Internshala Training\\\\Artificial Neural Network"
   ]
  },
  {
   "cell_type": "code",
   "execution_count": 47,
   "metadata": {},
   "outputs": [],
   "source": [
    "del model"
   ]
  },
  {
   "cell_type": "code",
   "execution_count": 43,
   "metadata": {},
   "outputs": [],
   "source": [
    "keras.backend.clear_session()"
   ]
  },
  {
   "cell_type": "code",
   "execution_count": 44,
   "metadata": {},
   "outputs": [],
   "source": [
    "model = keras.models.load_model(\"my_Func_model.h5\")"
   ]
  },
  {
   "cell_type": "code",
   "execution_count": 45,
   "metadata": {},
   "outputs": [
    {
     "name": "stdout",
     "output_type": "stream",
     "text": [
      "Model: \"model\"\n",
      "__________________________________________________________________________________________________\n",
      " Layer (type)                   Output Shape         Param #     Connected to                     \n",
      "==================================================================================================\n",
      " input_1 (InputLayer)           [(None, 8)]          0           []                               \n",
      "                                                                                                  \n",
      " dense (Dense)                  (None, 30)           270         ['input_1[0][0]']                \n",
      "                                                                                                  \n",
      " dense_1 (Dense)                (None, 30)           930         ['dense[0][0]']                  \n",
      "                                                                                                  \n",
      " concatenate (Concatenate)      (None, 38)           0           ['input_1[0][0]',                \n",
      "                                                                  'dense_1[0][0]']                \n",
      "                                                                                                  \n",
      " dense_2 (Dense)                (None, 1)            39          ['concatenate[0][0]']            \n",
      "                                                                                                  \n",
      "==================================================================================================\n",
      "Total params: 1,239\n",
      "Trainable params: 1,239\n",
      "Non-trainable params: 0\n",
      "__________________________________________________________________________________________________\n"
     ]
    }
   ],
   "source": [
    "model.summary()"
   ]
  },
  {
   "cell_type": "code",
   "execution_count": 46,
   "metadata": {},
   "outputs": [
    {
     "name": "stdout",
     "output_type": "stream",
     "text": [
      "1/1 [==============================] - 0s 58ms/step\n",
      "[[0.6239849]\n",
      " [1.6036305]\n",
      " [4.4539957]]\n"
     ]
    }
   ],
   "source": [
    "y_pred = model.predict(X_new)\n",
    "print (y_pred)"
   ]
  },
  {
   "cell_type": "markdown",
   "metadata": {},
   "source": [
    "# Using Callbacks during Training"
   ]
  },
  {
   "cell_type": "code",
   "execution_count": 48,
   "metadata": {},
   "outputs": [],
   "source": [
    "keras.backend.clear_session()\n",
    "np.random.seed(42)\n",
    "tf.random.set_seed(42)"
   ]
  },
  {
   "cell_type": "code",
   "execution_count": 49,
   "metadata": {},
   "outputs": [],
   "source": [
    "model = keras.models.Sequential([\n",
    "    keras.layers.Dense(30, activation=\"relu\", input_shape=[8]),\n",
    "    keras.layers.Dense(30, activation=\"relu\"),\n",
    "    keras.layers.Dense(1)\n",
    "])    "
   ]
  },
  {
   "cell_type": "code",
   "execution_count": 50,
   "metadata": {},
   "outputs": [
    {
     "name": "stderr",
     "output_type": "stream",
     "text": [
      "C:\\Users\\hp\\anaconda3\\lib\\site-packages\\keras\\optimizers\\optimizer_v2\\gradient_descent.py:108: UserWarning: The `lr` argument is deprecated, use `learning_rate` instead.\n",
      "  super(SGD, self).__init__(name, **kwargs)\n"
     ]
    }
   ],
   "source": [
    "model.compile(loss=\"mse\", optimizer=keras.optimizers.SGD(lr=1e-3))"
   ]
  },
  {
   "cell_type": "code",
   "execution_count": 51,
   "metadata": {},
   "outputs": [],
   "source": [
    "checkpoint_cb = keras.callbacks.ModelCheckpoint(\"Model-{epoch:02d}.h5\")"
   ]
  },
  {
   "cell_type": "code",
   "execution_count": 52,
   "metadata": {},
   "outputs": [
    {
     "name": "stdout",
     "output_type": "stream",
     "text": [
      "Epoch 1/10\n",
      "363/363 [==============================] - 1s 1ms/step - loss: 1.8866 - val_loss: 0.7126\n",
      "Epoch 2/10\n",
      "363/363 [==============================] - 0s 1ms/step - loss: 0.6577 - val_loss: 0.6880\n",
      "Epoch 3/10\n",
      "363/363 [==============================] - 0s 1ms/step - loss: 0.5934 - val_loss: 0.5803\n",
      "Epoch 4/10\n",
      "363/363 [==============================] - 0s 1ms/step - loss: 0.5557 - val_loss: 0.5166\n",
      "Epoch 5/10\n",
      "363/363 [==============================] - 0s 1ms/step - loss: 0.5272 - val_loss: 0.4895\n",
      "Epoch 6/10\n",
      "363/363 [==============================] - 0s 1ms/step - loss: 0.5033 - val_loss: 0.4951\n",
      "Epoch 7/10\n",
      "363/363 [==============================] - 0s 1ms/step - loss: 0.4854 - val_loss: 0.4861\n",
      "Epoch 8/10\n",
      "363/363 [==============================] - 1s 3ms/step - loss: 0.4709 - val_loss: 0.4554\n",
      "Epoch 9/10\n",
      "363/363 [==============================] - 0s 1ms/step - loss: 0.4578 - val_loss: 0.4413\n",
      "Epoch 10/10\n",
      "363/363 [==============================] - 0s 1ms/step - loss: 0.4474 - val_loss: 0.4379\n"
     ]
    }
   ],
   "source": [
    "history = model.fit(X_train, y_train, epochs=10,\n",
    "                    validation_data=(X_valid, y_valid),\n",
    "                    callbacks=[checkpoint_cb])"
   ]
  },
  {
   "cell_type": "code",
   "execution_count": 53,
   "metadata": {},
   "outputs": [],
   "source": [
    "del model\n",
    "keras.backend.clear_session()"
   ]
  },
  {
   "cell_type": "code",
   "execution_count": 54,
   "metadata": {},
   "outputs": [],
   "source": [
    "model = keras.models.load_model(\"Model-10.h5\")"
   ]
  },
  {
   "cell_type": "code",
   "execution_count": 55,
   "metadata": {},
   "outputs": [
    {
     "name": "stdout",
     "output_type": "stream",
     "text": [
      "1/1 [==============================] - 0s 96ms/step - loss: 0.4382\n"
     ]
    }
   ],
   "source": [
    "mse_test = model.evaluate(X_test, y_test,batch_size=5160)"
   ]
  },
  {
   "cell_type": "code",
   "execution_count": 56,
   "metadata": {},
   "outputs": [
    {
     "name": "stdout",
     "output_type": "stream",
     "text": [
      "0.4382285475730896\n"
     ]
    }
   ],
   "source": [
    "print (mse_test)"
   ]
  },
  {
   "cell_type": "code",
   "execution_count": 15,
   "metadata": {},
   "outputs": [
    {
     "data": {
      "text/plain": [
       "['loss']"
      ]
     },
     "execution_count": 15,
     "metadata": {},
     "output_type": "execute_result"
    }
   ],
   "source": [
    "model.metrics_names"
   ]
  },
  {
   "cell_type": "code",
   "execution_count": 17,
   "metadata": {},
   "outputs": [],
   "source": [
    "y_pred = model.predict(X_test)"
   ]
  },
  {
   "cell_type": "code",
   "execution_count": 18,
   "metadata": {},
   "outputs": [],
   "source": [
    "y_diff=y_pred-y_test"
   ]
  },
  {
   "cell_type": "code",
   "execution_count": 26,
   "metadata": {},
   "outputs": [
    {
     "data": {
      "text/plain": [
       "(5160, 1)"
      ]
     },
     "execution_count": 26,
     "metadata": {},
     "output_type": "execute_result"
    }
   ],
   "source": [
    "y_pred.shape"
   ]
  },
  {
   "cell_type": "code",
   "execution_count": null,
   "metadata": {},
   "outputs": [],
   "source": [
    "mse = (y_diff^2)"
   ]
  },
  {
   "cell_type": "code",
   "execution_count": null,
   "metadata": {},
   "outputs": [],
   "source": []
  },
  {
   "cell_type": "markdown",
   "metadata": {},
   "source": [
    "### Best Model Only"
   ]
  },
  {
   "cell_type": "code",
   "execution_count": 57,
   "metadata": {},
   "outputs": [],
   "source": [
    "del model\n",
    "keras.backend.clear_session()"
   ]
  },
  {
   "cell_type": "code",
   "execution_count": 58,
   "metadata": {},
   "outputs": [],
   "source": [
    "model = keras.models.Sequential([\n",
    "    keras.layers.Dense(30, activation=\"relu\", input_shape=[8]),\n",
    "    keras.layers.Dense(30, activation=\"relu\"),\n",
    "    keras.layers.Dense(1)\n",
    "])    "
   ]
  },
  {
   "cell_type": "code",
   "execution_count": 59,
   "metadata": {},
   "outputs": [],
   "source": [
    "model.compile(loss=\"mse\", optimizer=keras.optimizers.SGD(lr=1e-3))"
   ]
  },
  {
   "cell_type": "code",
   "execution_count": 60,
   "metadata": {},
   "outputs": [],
   "source": [
    "checkpoint_cb = keras.callbacks.ModelCheckpoint(\"Best_Model.h5\", save_best_only=True)"
   ]
  },
  {
   "cell_type": "code",
   "execution_count": 61,
   "metadata": {},
   "outputs": [
    {
     "name": "stdout",
     "output_type": "stream",
     "text": [
      "Epoch 1/10\n",
      "363/363 [==============================] - 1s 1ms/step - loss: 1.4581 - val_loss: 0.7883\n",
      "Epoch 2/10\n",
      "363/363 [==============================] - 0s 1ms/step - loss: 0.7368 - val_loss: 0.7306\n",
      "Epoch 3/10\n",
      "363/363 [==============================] - 0s 1ms/step - loss: 0.6516 - val_loss: 0.6501\n",
      "Epoch 4/10\n",
      "363/363 [==============================] - 0s 1ms/step - loss: 0.5951 - val_loss: 0.5551\n",
      "Epoch 5/10\n",
      "363/363 [==============================] - 1s 3ms/step - loss: 0.5536 - val_loss: 0.5025\n",
      "Epoch 6/10\n",
      "363/363 [==============================] - 0s 1ms/step - loss: 0.5199 - val_loss: 0.4728\n",
      "Epoch 7/10\n",
      "363/363 [==============================] - 0s 1ms/step - loss: 0.4940 - val_loss: 0.4497\n",
      "Epoch 8/10\n",
      "363/363 [==============================] - 0s 1ms/step - loss: 0.4730 - val_loss: 0.4359\n",
      "Epoch 9/10\n",
      "363/363 [==============================] - 0s 1ms/step - loss: 0.4563 - val_loss: 0.4267\n",
      "Epoch 10/10\n",
      "363/363 [==============================] - 0s 1ms/step - loss: 0.4431 - val_loss: 0.4224\n"
     ]
    }
   ],
   "source": [
    "history = model.fit(X_train, y_train, epochs=10,\n",
    "                    validation_data=(X_valid, y_valid),\n",
    "                    callbacks=[checkpoint_cb])"
   ]
  },
  {
   "cell_type": "code",
   "execution_count": 62,
   "metadata": {},
   "outputs": [
    {
     "name": "stdout",
     "output_type": "stream",
     "text": [
      "162/162 [==============================] - 0s 706us/step - loss: 0.4366\n"
     ]
    }
   ],
   "source": [
    "model = keras.models.load_model(\"Best_Model.h5\") # rollback to best model\n",
    "mse_test = model.evaluate(X_test, y_test)"
   ]
  },
  {
   "cell_type": "markdown",
   "metadata": {},
   "source": [
    "### Best Model Only"
   ]
  },
  {
   "cell_type": "code",
   "execution_count": 63,
   "metadata": {},
   "outputs": [],
   "source": [
    "del model\n",
    "keras.backend.clear_session()"
   ]
  },
  {
   "cell_type": "code",
   "execution_count": 64,
   "metadata": {},
   "outputs": [],
   "source": [
    "model = keras.models.Sequential([\n",
    "    keras.layers.Dense(30, activation=\"relu\", input_shape=[8]),\n",
    "    keras.layers.Dense(30, activation=\"relu\"),\n",
    "    keras.layers.Dense(1)\n",
    "])    "
   ]
  },
  {
   "cell_type": "code",
   "execution_count": 65,
   "metadata": {},
   "outputs": [],
   "source": [
    "model.compile(loss=\"mse\", optimizer=keras.optimizers.SGD(lr=1e-3))"
   ]
  },
  {
   "cell_type": "code",
   "execution_count": 66,
   "metadata": {},
   "outputs": [],
   "source": [
    "checkpoint_cb = keras.callbacks.ModelCheckpoint(\"early_stop_model.h5\", save_best_only=True)"
   ]
  },
  {
   "cell_type": "code",
   "execution_count": 67,
   "metadata": {},
   "outputs": [],
   "source": [
    "early_stopping_cb = keras.callbacks.EarlyStopping(patience=10,\n",
    "                                                  restore_best_weights=True)\n",
    "\n",
    "#     patience: Number of epochs with no improvement after which training will be stopped."
   ]
  },
  {
   "cell_type": "code",
   "execution_count": 68,
   "metadata": {},
   "outputs": [
    {
     "name": "stdout",
     "output_type": "stream",
     "text": [
      "Epoch 1/200\n",
      "363/363 [==============================] - 1s 1ms/step - loss: 2.5780 - val_loss: 2.2266\n",
      "Epoch 2/200\n",
      "363/363 [==============================] - 0s 1ms/step - loss: 1.0896 - val_loss: 0.9287\n",
      "Epoch 3/200\n",
      "363/363 [==============================] - 0s 1ms/step - loss: 0.8430 - val_loss: 0.9400\n",
      "Epoch 4/200\n",
      "363/363 [==============================] - 0s 1ms/step - loss: 0.7673 - val_loss: 0.7490\n",
      "Epoch 5/200\n",
      "363/363 [==============================] - 0s 1ms/step - loss: 0.7194 - val_loss: 0.6682\n",
      "Epoch 6/200\n",
      "363/363 [==============================] - 0s 1ms/step - loss: 0.6799 - val_loss: 0.6534\n",
      "Epoch 7/200\n",
      "363/363 [==============================] - 0s 1ms/step - loss: 0.6466 - val_loss: 0.6407\n",
      "Epoch 8/200\n",
      "363/363 [==============================] - 0s 1ms/step - loss: 0.6173 - val_loss: 0.5704\n",
      "Epoch 9/200\n",
      "363/363 [==============================] - 0s 1ms/step - loss: 0.5894 - val_loss: 0.5552\n",
      "Epoch 10/200\n",
      "363/363 [==============================] - 0s 1ms/step - loss: 0.5645 - val_loss: 0.5572\n",
      "Epoch 11/200\n",
      "363/363 [==============================] - 0s 1ms/step - loss: 0.5428 - val_loss: 0.5168\n",
      "Epoch 12/200\n",
      "363/363 [==============================] - 0s 1ms/step - loss: 0.5212 - val_loss: 0.5067\n",
      "Epoch 13/200\n",
      "363/363 [==============================] - 0s 1ms/step - loss: 0.5034 - val_loss: 0.4662\n",
      "Epoch 14/200\n",
      "363/363 [==============================] - 0s 1ms/step - loss: 0.4866 - val_loss: 0.4498\n",
      "Epoch 15/200\n",
      "363/363 [==============================] - 0s 1ms/step - loss: 0.4721 - val_loss: 0.4385\n",
      "Epoch 16/200\n",
      "363/363 [==============================] - 0s 1ms/step - loss: 0.4594 - val_loss: 0.4251\n",
      "Epoch 17/200\n",
      "363/363 [==============================] - 0s 1ms/step - loss: 0.4489 - val_loss: 0.4241\n",
      "Epoch 18/200\n",
      "363/363 [==============================] - 0s 1ms/step - loss: 0.4396 - val_loss: 0.4331\n",
      "Epoch 19/200\n",
      "363/363 [==============================] - 0s 1ms/step - loss: 0.4315 - val_loss: 0.4004\n",
      "Epoch 20/200\n",
      "363/363 [==============================] - 0s 1ms/step - loss: 0.4252 - val_loss: 0.4191\n",
      "Epoch 21/200\n",
      "363/363 [==============================] - 0s 1ms/step - loss: 0.4190 - val_loss: 0.3939\n",
      "Epoch 22/200\n",
      "363/363 [==============================] - 0s 1ms/step - loss: 0.4140 - val_loss: 0.4230\n",
      "Epoch 23/200\n",
      "363/363 [==============================] - 0s 1ms/step - loss: 0.4094 - val_loss: 0.3836\n",
      "Epoch 24/200\n",
      "363/363 [==============================] - 0s 1ms/step - loss: 0.4052 - val_loss: 0.4113\n",
      "Epoch 25/200\n",
      "363/363 [==============================] - 0s 1ms/step - loss: 0.4014 - val_loss: 0.4086\n",
      "Epoch 26/200\n",
      "363/363 [==============================] - 0s 1ms/step - loss: 0.3981 - val_loss: 0.4039\n",
      "Epoch 27/200\n",
      "363/363 [==============================] - 0s 1ms/step - loss: 0.3950 - val_loss: 0.3685\n",
      "Epoch 28/200\n",
      "363/363 [==============================] - 0s 1ms/step - loss: 0.3920 - val_loss: 0.4138\n",
      "Epoch 29/200\n",
      "363/363 [==============================] - 0s 1ms/step - loss: 0.3895 - val_loss: 0.3730\n",
      "Epoch 30/200\n",
      "363/363 [==============================] - 0s 1ms/step - loss: 0.3867 - val_loss: 0.4090\n",
      "Epoch 31/200\n",
      "363/363 [==============================] - 0s 1ms/step - loss: 0.3843 - val_loss: 0.3704\n",
      "Epoch 32/200\n",
      "363/363 [==============================] - 0s 1ms/step - loss: 0.3819 - val_loss: 0.4206\n",
      "Epoch 33/200\n",
      "363/363 [==============================] - 0s 1ms/step - loss: 0.3805 - val_loss: 0.3561\n",
      "Epoch 34/200\n",
      "363/363 [==============================] - 0s 1ms/step - loss: 0.3781 - val_loss: 0.3605\n",
      "Epoch 35/200\n",
      "363/363 [==============================] - 0s 1ms/step - loss: 0.3762 - val_loss: 0.4080\n",
      "Epoch 36/200\n",
      "363/363 [==============================] - 0s 1ms/step - loss: 0.3745 - val_loss: 0.3594\n",
      "Epoch 37/200\n",
      "363/363 [==============================] - 0s 1ms/step - loss: 0.3729 - val_loss: 0.3986\n",
      "Epoch 38/200\n",
      "363/363 [==============================] - 0s 1ms/step - loss: 0.3715 - val_loss: 0.3487\n",
      "Epoch 39/200\n",
      "363/363 [==============================] - 0s 1ms/step - loss: 0.3696 - val_loss: 0.3573\n",
      "Epoch 40/200\n",
      "363/363 [==============================] - 0s 1ms/step - loss: 0.3680 - val_loss: 0.3542\n",
      "Epoch 41/200\n",
      "363/363 [==============================] - 0s 1ms/step - loss: 0.3668 - val_loss: 0.3699\n",
      "Epoch 42/200\n",
      "363/363 [==============================] - 0s 1ms/step - loss: 0.3657 - val_loss: 0.3762\n",
      "Epoch 43/200\n",
      "363/363 [==============================] - 0s 1ms/step - loss: 0.3641 - val_loss: 0.3723\n",
      "Epoch 44/200\n",
      "363/363 [==============================] - 0s 1ms/step - loss: 0.3628 - val_loss: 0.3838\n",
      "Epoch 45/200\n",
      "363/363 [==============================] - 0s 1ms/step - loss: 0.3620 - val_loss: 0.3427\n",
      "Epoch 46/200\n",
      "363/363 [==============================] - 0s 1ms/step - loss: 0.3605 - val_loss: 0.3664\n",
      "Epoch 47/200\n",
      "363/363 [==============================] - 0s 1ms/step - loss: 0.3595 - val_loss: 0.3478\n",
      "Epoch 48/200\n",
      "363/363 [==============================] - 0s 1ms/step - loss: 0.3584 - val_loss: 0.3780\n",
      "Epoch 49/200\n",
      "363/363 [==============================] - 0s 1ms/step - loss: 0.3578 - val_loss: 0.3394\n",
      "Epoch 50/200\n",
      "363/363 [==============================] - 1s 2ms/step - loss: 0.3565 - val_loss: 0.3388\n",
      "Epoch 51/200\n",
      "363/363 [==============================] - 1s 3ms/step - loss: 0.3553 - val_loss: 0.3670\n",
      "Epoch 52/200\n",
      "363/363 [==============================] - 1s 4ms/step - loss: 0.3548 - val_loss: 0.3358\n",
      "Epoch 53/200\n",
      "363/363 [==============================] - 0s 1ms/step - loss: 0.3538 - val_loss: 0.3837\n",
      "Epoch 54/200\n",
      "363/363 [==============================] - 1s 2ms/step - loss: 0.3531 - val_loss: 0.3354\n",
      "Epoch 55/200\n",
      "363/363 [==============================] - 1s 3ms/step - loss: 0.3522 - val_loss: 0.3434\n",
      "Epoch 56/200\n",
      "363/363 [==============================] - 1s 2ms/step - loss: 0.3513 - val_loss: 0.3454\n",
      "Epoch 57/200\n",
      "363/363 [==============================] - 1s 3ms/step - loss: 0.3505 - val_loss: 0.3372\n",
      "Epoch 58/200\n",
      "363/363 [==============================] - 0s 1ms/step - loss: 0.3495 - val_loss: 0.3674\n",
      "Epoch 59/200\n",
      "363/363 [==============================] - 0s 1ms/step - loss: 0.3491 - val_loss: 0.3593\n",
      "Epoch 60/200\n",
      "363/363 [==============================] - 0s 1ms/step - loss: 0.3483 - val_loss: 0.3387\n",
      "Epoch 61/200\n",
      "363/363 [==============================] - 0s 1ms/step - loss: 0.3471 - val_loss: 0.3605\n",
      "Epoch 62/200\n",
      "363/363 [==============================] - 1s 2ms/step - loss: 0.3467 - val_loss: 0.3600\n",
      "Epoch 63/200\n",
      "363/363 [==============================] - 0s 1ms/step - loss: 0.3456 - val_loss: 0.3566\n",
      "Epoch 64/200\n",
      "363/363 [==============================] - 0s 1ms/step - loss: 0.3454 - val_loss: 0.3374\n"
     ]
    }
   ],
   "source": [
    "history = model.fit(X_train, y_train, epochs=200,\n",
    "                    validation_data=(X_valid, y_valid),\n",
    "                    callbacks=[checkpoint_cb, early_stopping_cb])"
   ]
  },
  {
   "cell_type": "code",
   "execution_count": 69,
   "metadata": {},
   "outputs": [
    {
     "name": "stdout",
     "output_type": "stream",
     "text": [
      "162/162 [==============================] - 0s 775us/step - loss: 0.3481\n"
     ]
    }
   ],
   "source": [
    "model = keras.models.load_model(\"early_stop_model.h5\")\n",
    "mse_test = model.evaluate(X_test, y_test)"
   ]
  },
  {
   "cell_type": "code",
   "execution_count": null,
   "metadata": {},
   "outputs": [],
   "source": []
  }
 ],
 "metadata": {
  "kernelspec": {
   "display_name": "Python 3 (ipykernel)",
   "language": "python",
   "name": "python3"
  },
  "language_info": {
   "codemirror_mode": {
    "name": "ipython",
    "version": 3
   },
   "file_extension": ".py",
   "mimetype": "text/x-python",
   "name": "python",
   "nbconvert_exporter": "python",
   "pygments_lexer": "ipython3",
   "version": "3.9.12"
  }
 },
 "nbformat": 4,
 "nbformat_minor": 2
}
